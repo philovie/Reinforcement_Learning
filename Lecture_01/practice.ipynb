{
 "cells": [
  {
   "cell_type": "code",
   "execution_count": 1,
   "id": "5acb538c",
   "metadata": {},
   "outputs": [],
   "source": [
    "numbers = '23456789TJQKA'\n",
    "colors = '红黑方梅'\n",
    "joker = 'Xy'\n",
    "def numbers_value(n):\n",
    "    position_value = numbers.find(n) + 2\n",
    "    \n",
    "    if n == 'X' or n == 'y':\n",
    "        return list(range(1,15))\n",
    "    \n",
    "    if n == 'A':\n",
    "        return position_value, 1\n",
    "    \n",
    "    else:\n",
    "        return position_value,\n",
    "    "
   ]
  },
  {
   "cell_type": "code",
   "execution_count": 2,
   "id": "93681c7d",
   "metadata": {},
   "outputs": [
    {
     "data": {
      "text/plain": [
       "[1, 2, 3, 4, 5, 6, 7, 8, 9, 10, 11, 12, 13, 14]"
      ]
     },
     "execution_count": 2,
     "metadata": {},
     "output_type": "execute_result"
    }
   ],
   "source": [
    "numbers_value('X')"
   ]
  },
  {
   "cell_type": "code",
   "execution_count": 3,
   "id": "f1161fa3",
   "metadata": {},
   "outputs": [],
   "source": [
    "from itertools import product\n",
    "one_suite_cards = [\n",
    "    c+n for c, n in product(numbers,colors)\n",
    "]\n",
    "one_suite_cards.append('XX')\n",
    "one_suite_cards.append('yy')"
   ]
  },
  {
   "cell_type": "code",
   "execution_count": 4,
   "id": "7babbf37",
   "metadata": {},
   "outputs": [
    {
     "data": {
      "text/plain": [
       "108"
      ]
     },
     "execution_count": 4,
     "metadata": {},
     "output_type": "execute_result"
    }
   ],
   "source": [
    "len(one_suite_cards * 2)"
   ]
  },
  {
   "cell_type": "code",
   "execution_count": 5,
   "id": "3ffc6994",
   "metadata": {},
   "outputs": [
    {
     "data": {
      "text/plain": [
       "54"
      ]
     },
     "execution_count": 5,
     "metadata": {},
     "output_type": "execute_result"
    }
   ],
   "source": [
    "len(one_suite_cards)"
   ]
  },
  {
   "cell_type": "code",
   "execution_count": 6,
   "id": "ce4b8bad",
   "metadata": {},
   "outputs": [],
   "source": [
    "import random\n",
    "random.shuffle(one_suite_cards)"
   ]
  },
  {
   "cell_type": "code",
   "execution_count": 7,
   "id": "e537d11b",
   "metadata": {},
   "outputs": [],
   "source": [
    "def distribute_hand(people_n,card_n = 3,with_joker=False,multi_suite = False):\n",
    "    \n",
    "#     card_n = 3\n",
    "    \n",
    "    \n",
    "    \n",
    "    one_suite_cards = [\n",
    "        c+n for c, n in product(numbers,colors)\n",
    "    ]\n",
    "    \n",
    "    if with_joker:\n",
    "        one_suite_cards.append('XX')\n",
    "        one_suite_cards.append('yy')\n",
    "    \n",
    "    if multi_suite:\n",
    "        suite_nums = int(( people_n * card_n ) * 1.0 / 54) + 1\n",
    "        suite_cards = one_suite_cards * suite_nums\n",
    "#     print(len(suite_cards))\n",
    "    \n",
    "        random.shuffle(suite_cards)\n",
    "        random_hand = []\n",
    "    #     start = 0\n",
    "    #     for i in range(people_n):\n",
    "    #         start += i * card_n\n",
    "    #         random_hand.append(one_suite_cards[start:start+card_n])\n",
    "\n",
    "        random_hand = [suite_cards[i * card_n:i * card_n + card_n] for i in range(people_n)]\n",
    "    \n",
    "    else:\n",
    "        random.shuffle(one_suite_cards)\n",
    "        random_hand = []\n",
    "        start,j = 0,0\n",
    "        for i in range(people_n):\n",
    "            start = j * card_n\n",
    "#             print('j:{},start:{},card_n:{}'.format(j,start,card_n))\n",
    "            j += 1\n",
    "#             print(start)\n",
    "            if start + card_n > len(one_suite_cards):\n",
    "                random.shuffle(one_suite_cards)\n",
    "#                 print(one_suite_cards)\n",
    "                start = 0\n",
    "                j = 0\n",
    "            random_hand.append(one_suite_cards[start:start+card_n])\n",
    "#             print(one_suite_cards[start:start+card_n])\n",
    "#             print(start,start+card_n)\n",
    "            \n",
    "\n",
    "    return random_hand\n",
    "\n",
    "    "
   ]
  },
  {
   "cell_type": "code",
   "execution_count": 8,
   "id": "1977a109",
   "metadata": {},
   "outputs": [],
   "source": [
    "random_hand = distribute_hand(78,True,False)"
   ]
  },
  {
   "cell_type": "code",
   "execution_count": 9,
   "id": "3b4a6833",
   "metadata": {},
   "outputs": [
    {
     "data": {
      "text/plain": [
       "78"
      ]
     },
     "execution_count": 9,
     "metadata": {},
     "output_type": "execute_result"
    }
   ],
   "source": [
    "len(random_hand)"
   ]
  },
  {
   "cell_type": "code",
   "execution_count": 30,
   "id": "efb28a5c",
   "metadata": {},
   "outputs": [],
   "source": [
    "def is_flush(hand): #同花\n",
    "    \n",
    "    if len(set(c for _, c in hand)) == 2:\n",
    "        for _,c in hand:\n",
    "            if c == 'X'or c == 'y':\n",
    "                return True\n",
    "        \n",
    "    return len(set(c for _, c in hand)) == 1"
   ]
  },
  {
   "cell_type": "code",
   "execution_count": null,
   "id": "afa44741",
   "metadata": {},
   "outputs": [],
   "source": []
  },
  {
   "cell_type": "code",
   "execution_count": 31,
   "id": "b11ffd27",
   "metadata": {},
   "outputs": [
    {
     "data": {
      "text/plain": [
       "True"
      ]
     },
     "execution_count": 31,
     "metadata": {},
     "output_type": "execute_result"
    }
   ],
   "source": [
    "is_flush(['9红',\n",
    " 'XX',\n",
    " '4红',])"
   ]
  },
  {
   "cell_type": "code",
   "execution_count": 32,
   "id": "caf4691f",
   "metadata": {},
   "outputs": [],
   "source": [
    "def ascend(numbers):\n",
    "    sorted_n = sorted(numbers)\n",
    "    return sorted_n[2] - sorted_n[1] == sorted_n[1] - sorted_n[0] == 1\n",
    "\n",
    "def is_straight(hand): #拖拉机\n",
    "\n",
    "    possible_numbers = [numbers_value(n) for n,_ in hand]\n",
    "    \n",
    "#     print (possible_numbers)\n",
    "    \n",
    "    all_combination = list(product(*possible_numbers))\n",
    "#     print (all_combination)\n",
    "    return any(ascend(h) for h in all_combination)\n",
    "   "
   ]
  },
  {
   "cell_type": "code",
   "execution_count": 33,
   "id": "3b1e4cfb",
   "metadata": {},
   "outputs": [
    {
     "data": {
      "text/plain": [
       "True"
      ]
     },
     "execution_count": 33,
     "metadata": {},
     "output_type": "execute_result"
    }
   ],
   "source": [
    "is_straight(['3红',\n",
    " '4黑',\n",
    " '5方',])"
   ]
  },
  {
   "cell_type": "code",
   "execution_count": 43,
   "id": "7a29668a",
   "metadata": {},
   "outputs": [],
   "source": [
    "from collections import Counter\n",
    "FLUSH,STRIGHT = 'flush','straight'\n",
    "total_hand = 10000\n",
    "def get_poker_env(people,round_number=10000):\n",
    "    poker_counter = Counter()\n",
    "#     FLUSH,STRIGHT = 'flush','straight'\n",
    "    total_hand = 0\n",
    "    for t in range(round_number):\n",
    "        for hand in distribute_hand(people,3,True,True):\n",
    "            total_hand += 1\n",
    "            if is_flush(hand):\n",
    "                poker_counter[FLUSH] += 1\n",
    "            elif is_straight(hand):\n",
    "                poker_counter[STRIGHT] += 1\n",
    "    return poker_counter\n",
    "    "
   ]
  },
  {
   "cell_type": "code",
   "execution_count": 44,
   "id": "19fc92f2",
   "metadata": {},
   "outputs": [],
   "source": [
    "poker_counter = get_poker_env(3)"
   ]
  },
  {
   "cell_type": "code",
   "execution_count": 45,
   "id": "0ad5730b",
   "metadata": {
    "scrolled": true
   },
   "outputs": [
    {
     "data": {
      "text/plain": [
       "0.2131"
      ]
     },
     "execution_count": 45,
     "metadata": {},
     "output_type": "execute_result"
    }
   ],
   "source": [
    "poker_counter[FLUSH] / total_hand"
   ]
  },
  {
   "cell_type": "code",
   "execution_count": 46,
   "id": "b296ed40",
   "metadata": {},
   "outputs": [
    {
     "data": {
      "text/plain": [
       "0.1673"
      ]
     },
     "execution_count": 46,
     "metadata": {},
     "output_type": "execute_result"
    }
   ],
   "source": [
    "poker_counter[STRIGHT] / total_hand"
   ]
  },
  {
   "cell_type": "code",
   "execution_count": 47,
   "id": "34e3825b",
   "metadata": {},
   "outputs": [],
   "source": [
    "rate = poker_counter[FLUSH] / poker_counter[STRIGHT] "
   ]
  },
  {
   "cell_type": "code",
   "execution_count": 48,
   "id": "3c6cfd83",
   "metadata": {},
   "outputs": [
    {
     "data": {
      "text/plain": [
       "1.273759713090257"
      ]
     },
     "execution_count": 48,
     "metadata": {},
     "output_type": "execute_result"
    }
   ],
   "source": [
    "rate"
   ]
  },
  {
   "cell_type": "code",
   "execution_count": 49,
   "id": "c04781c4",
   "metadata": {},
   "outputs": [],
   "source": [
    "from tqdm import tqdm_notebook"
   ]
  },
  {
   "cell_type": "code",
   "execution_count": 50,
   "id": "716cb2fa",
   "metadata": {},
   "outputs": [
    {
     "name": "stderr",
     "output_type": "stream",
     "text": [
      "/var/folders/dr/3bsmb4j928bcx76mh_1dfx1r0000gn/T/ipykernel_6722/1836153485.py:4: TqdmDeprecationWarning: This function will be removed in tqdm==5.0.0\n",
      "Please use `tqdm.notebook.tqdm` instead of `tqdm.tqdm_notebook`\n",
      "  for n in tqdm_notebook(people_numbers):\n"
     ]
    },
    {
     "data": {
      "application/vnd.jupyter.widget-view+json": {
       "model_id": "b6cbfca5a00c4427acd6af460549d79b",
       "version_major": 2,
       "version_minor": 0
      },
      "text/plain": [
       "  0%|          | 0/15 [00:00<?, ?it/s]"
      ]
     },
     "metadata": {},
     "output_type": "display_data"
    }
   ],
   "source": [
    "people_numbers= range(2, 17)\n",
    "r = 50000\n",
    "rates = []\n",
    "for n in tqdm_notebook(people_numbers):\n",
    "    result = get_poker_env(n,r)\n",
    "    rates.append(result[FLUSH] / result[STRIGHT] )"
   ]
  },
  {
   "cell_type": "code",
   "execution_count": 51,
   "id": "f071087b",
   "metadata": {},
   "outputs": [
    {
     "data": {
      "text/plain": [
       "[<matplotlib.lines.Line2D at 0x7f9d29b4b970>]"
      ]
     },
     "execution_count": 51,
     "metadata": {},
     "output_type": "execute_result"
    },
    {
     "data": {
      "image/png": "[encoded data removed]",
      "text/plain": [
       "<Figure size 432x288 with 1 Axes>"
      ]
     },
     "metadata": {
      "needs_background": "light"
     },
     "output_type": "display_data"
    }
   ],
   "source": [
    "import matplotlib.pyplot as plt\n",
    "plt.plot(people_numbers, rates)\n"
   ]
  },
  {
   "cell_type": "code",
   "execution_count": null,
   "id": "3e7addef",
   "metadata": {},
   "outputs": [],
   "source": []
  },
  {
   "cell_type": "code",
   "execution_count": null,
   "id": "51b25547",
   "metadata": {},
   "outputs": [],
   "source": []
  },
  {
   "cell_type": "code",
   "execution_count": null,
   "id": "d5a92300",
   "metadata": {},
   "outputs": [],
   "source": []
  },
  {
   "cell_type": "markdown",
   "id": "b67ae4f7",
   "metadata": {},
   "source": [
    "# 五张牌"
   ]
  },
  {
   "cell_type": "code",
   "execution_count": 51,
   "id": "c41f3532",
   "metadata": {},
   "outputs": [],
   "source": [
    "# def distribute_hand(people_n,card_n = 5,with_joker=False,multi_suite = False): #发牌函数\n",
    "    \n",
    "# #     card_n = 5\n",
    "    \n",
    "    \n",
    "    \n",
    "#     one_suite_cards = [\n",
    "#         c+n for c, n in product(numbers,colors)\n",
    "#     ]\n",
    "    \n",
    "#     if with_joker:\n",
    "#         one_suite_cards.append('JK')\n",
    "#         one_suite_cards.append('jk')\n",
    "    \n",
    "#     if multi_suite:\n",
    "#         suite_nums = int(( people_n * card_n ) * 1.0 / 54) + 1\n",
    "#         suite_cards = one_suite_cards * suite_nums\n",
    "    \n",
    "#         random.shuffle(suite_cards)\n",
    "#         random_hand = []\n",
    "#         random_hand = [suite_cards[i * card_n:i * card_n + card_n] for i in range(people_n)]\n",
    "    \n",
    "#     else:\n",
    "#         random.shuffle(one_suite_cards)\n",
    "#         random_hand = []\n",
    "#         start,j = 0,0\n",
    "#         for i in range(people_n):\n",
    "#             start = j * card_n\n",
    "#             j += 1\n",
    "#             if start + card_n > len(one_suite_cards):\n",
    "#                 random.shuffle(one_suite_cards)\n",
    "#                 start = 0\n",
    "#                 j = 0\n",
    "#             random_hand.append(one_suite_cards[start:start+card_n])\n",
    "\n",
    "#     return random_hand\n",
    "\n",
    "    "
   ]
  },
  {
   "cell_type": "code",
   "execution_count": 150,
   "id": "c0413c6e",
   "metadata": {},
   "outputs": [],
   "source": [
    "def ascend(numbers):\n",
    "    sorted_n = sorted(numbers)\n",
    "    return sorted_n[4] - sorted_n[3] == sorted_n[3] - sorted_n[2] == sorted_n[2] - sorted_n[1] == sorted_n[1] - sorted_n[0] == 1\n",
    "\n",
    "def is_straight(hand): #拖拉机\n",
    "\n",
    "    possible_numbers = [numbers_value(n) for n,_ in hand]\n",
    "    \n",
    "#     print (possible_numbers)\n",
    "    \n",
    "    all_combination = list(product(*possible_numbers))\n",
    "#     print (all_combination)\n",
    "    return any(ascend(h) for h in all_combination)"
   ]
  },
  {
   "cell_type": "code",
   "execution_count": null,
   "id": "ec78cc1b",
   "metadata": {},
   "outputs": [],
   "source": []
  },
  {
   "cell_type": "code",
   "execution_count": 151,
   "id": "8c9f244b",
   "metadata": {},
   "outputs": [],
   "source": [
    "def is_straight_flush(hand): # 五个花色相同并且还是顺子\n",
    "    return is_straight(hand) and is_flush(hand)"
   ]
  },
  {
   "cell_type": "code",
   "execution_count": 152,
   "id": "efc50e5c",
   "metadata": {},
   "outputs": [],
   "source": [
    "def asc(numbers):\n",
    "    sorted_n = sorted(numbers)\n",
    "    return len(set(sorted_n[1:-1])) == 1 and (sorted_n[4] - sorted_n[3] <= 1 or sorted_n[1] - sorted_n[0] <= 1)\n",
    "def is_four_of_one_kind(hand): # 四个数字相同\n",
    "#     print(hand)\n",
    "    possible_numbers = [numbers_value(n) for n,_ in hand]\n",
    "#     print(possible_numbers)\n",
    "    all_combination = list(product(*possible_numbers))\n",
    "    return any(asc(h) for h in all_combination)\n",
    "    "
   ]
  },
  {
   "cell_type": "code",
   "execution_count": 153,
   "id": "97e4648f",
   "metadata": {
    "scrolled": true
   },
   "outputs": [
    {
     "data": {
      "text/plain": [
       "True"
      ]
     },
     "execution_count": 153,
     "metadata": {},
     "output_type": "execute_result"
    }
   ],
   "source": [
    "is_four_of_one_kind(['A红', 'A方', 'A方', 'XX', '4红'])"
   ]
  },
  {
   "cell_type": "code",
   "execution_count": null,
   "id": "a54d027b",
   "metadata": {},
   "outputs": [],
   "source": []
  },
  {
   "cell_type": "code",
   "execution_count": 154,
   "id": "1f8a7a10",
   "metadata": {},
   "outputs": [],
   "source": [
    "def aaa_bb(numbers):\n",
    "    sorted_n = sorted(numbers)\n",
    "#     print (sorted_n)\n",
    "#     print (sorted_n[:2])\n",
    "    return len(set(sorted_n[:2])) == 1 and len(set(sorted_n[-2:])) == 1 and ((sorted_n[2] == sorted_n[0]) or (sorted_n[2] == sorted_n[-1]))\n",
    "\n",
    "def is_full_house(hand):\n",
    "#     print(hand)\n",
    "    possible_numbers = [numbers_value(n) for n,_ in hand]\n",
    "#     print(possible_numbers)\n",
    "    all_combination = list(product(*possible_numbers))\n",
    "#     print(all_combination)\n",
    "    return any(aaa_bb(h) for h in all_combination)"
   ]
  },
  {
   "cell_type": "code",
   "execution_count": 155,
   "id": "8b7669e9",
   "metadata": {},
   "outputs": [
    {
     "data": {
      "text/plain": [
       "True"
      ]
     },
     "execution_count": 155,
     "metadata": {},
     "output_type": "execute_result"
    }
   ],
   "source": [
    "is_full_house(['A红', '2方', 'A方', 'XX', 'yy'])"
   ]
  },
  {
   "cell_type": "code",
   "execution_count": 156,
   "id": "f2ea34c9",
   "metadata": {},
   "outputs": [],
   "source": [
    "def aaa(numbers):\n",
    "    sorted_n = sorted(numbers)\n",
    "#     print(sorted_n)\n",
    "    return len(set(sorted_n[:3])) == 1 or len(set(sorted_n[1:4])) == 1 or len(set(sorted_n[2:5])) == 1\n",
    "def is_three_of_a_kind(hand):\n",
    "    possible_numbers = [numbers_value(n) for n,_ in hand]\n",
    "    all_combination = list(product(*possible_numbers))\n",
    "    return any(aaa(h) for h in all_combination)"
   ]
  },
  {
   "cell_type": "code",
   "execution_count": 157,
   "id": "48904be0",
   "metadata": {},
   "outputs": [
    {
     "data": {
      "text/plain": [
       "True"
      ]
     },
     "execution_count": 157,
     "metadata": {},
     "output_type": "execute_result"
    }
   ],
   "source": [
    "is_three_of_a_kind(['8红', '7方', '2方', '7梅', 'yy'])"
   ]
  },
  {
   "cell_type": "code",
   "execution_count": 158,
   "id": "a1974b95",
   "metadata": {},
   "outputs": [
    {
     "data": {
      "text/plain": [
       "[4, 5]"
      ]
     },
     "execution_count": 158,
     "metadata": {},
     "output_type": "execute_result"
    }
   ],
   "source": [
    "sorted_n=[1, 2, 3, 4, 5]\n",
    "sorted_n[3:5] "
   ]
  },
  {
   "cell_type": "code",
   "execution_count": 159,
   "id": "6859e61d",
   "metadata": {},
   "outputs": [],
   "source": [
    "def aa(numbers):\n",
    "    sorted_n = sorted(numbers)\n",
    "#     print(sorted_n)\n",
    "    if not len(set(sorted_n)) == 3:\n",
    "        return False\n",
    "    pair_count = set()\n",
    "    if len(set(sorted_n[:2])) == 1 :\n",
    "        pair_count.add(0)\n",
    "        pair_count.add(1)\n",
    "    if len(set(sorted_n[1:3])) == 1:\n",
    "        pair_count.add(1)\n",
    "        pair_count.add(2)\n",
    "    if len(set(sorted_n[2:4])) == 1:\n",
    "        pair_count.add(2)\n",
    "        pair_count.add(3)\n",
    "    if len(set(sorted_n[3:5])) == 1:\n",
    "        pair_count.add(3)\n",
    "        pair_count.add(4)\n",
    "    if len(pair_count) == 4:\n",
    "#         print(pair_count)\n",
    "        return True\n",
    "    return False\n",
    "def is_two_pair(hand):\n",
    "    possible_numbers = [numbers_value(n) for n,_ in hand]\n",
    "    all_combination = list(product(*possible_numbers))\n",
    "    return any(aa(h) for h in all_combination)"
   ]
  },
  {
   "cell_type": "code",
   "execution_count": 160,
   "id": "46d71b1c",
   "metadata": {
    "scrolled": false
   },
   "outputs": [
    {
     "data": {
      "text/plain": [
       "True"
      ]
     },
     "execution_count": 160,
     "metadata": {},
     "output_type": "execute_result"
    }
   ],
   "source": [
    "is_two_pair(['2红', '8方', '3方', '2梅', 'yy'])"
   ]
  },
  {
   "cell_type": "code",
   "execution_count": 161,
   "id": "dc3d2c01",
   "metadata": {},
   "outputs": [],
   "source": [
    "def a(numbers):\n",
    "    sorted_n = sorted(numbers)\n",
    "#     print(sorted_n)\n",
    "    return len(set(sorted_n)) == 4\n",
    "def is_pair(hand):\n",
    "    possible_numbers = [numbers_value(n) for n,_ in hand]\n",
    "    all_combination = list(product(*possible_numbers))\n",
    "    return any(a(h) for h in all_combination)"
   ]
  },
  {
   "cell_type": "code",
   "execution_count": 162,
   "id": "a4152634",
   "metadata": {},
   "outputs": [
    {
     "data": {
      "text/plain": [
       "True"
      ]
     },
     "execution_count": 162,
     "metadata": {},
     "output_type": "execute_result"
    }
   ],
   "source": [
    "is_pair(['2红', '8方', '3方', '2梅', 'yy'])"
   ]
  },
  {
   "cell_type": "code",
   "execution_count": 163,
   "id": "fd023b20",
   "metadata": {},
   "outputs": [],
   "source": [
    "from collections import Counter\n",
    "FOUR_OF_ONE_KIND,STRIGHT_FLUSH,FLUSH,STRIGHT,FULL_HOUSE,THREE_OF_ONE_KIND,TWO_PAIR,PAIR = 'four_of_one_kind','straight_flush','flush','stright','full_house','three_of_one_kind','two_pair','pair'\n",
    "total_hand = 10000\n",
    "def get_poker_env(people,round_number=10000):\n",
    "    poker_counter = Counter()\n",
    "#     FLUSH,STRIGHT = 'flush','straight'\n",
    "    total_hand = 0\n",
    "    for t in range(round_number):\n",
    "        for hand in distribute_hand(people,5,True,True):\n",
    "            total_hand += 1\n",
    "            if is_flush(hand):\n",
    "                poker_counter[FLUSH] += 1\n",
    "            if is_straight(hand):\n",
    "                poker_counter[STRIGHT] += 1\n",
    "            if is_straight_flush(hand):\n",
    "                poker_counter[STRIGHT_FLUSH] += 1\n",
    "            if is_four_of_one_kind(hand):\n",
    "                poker_counter[FOUR_OF_ONE_KIND] += 1\n",
    "            if is_full_house(hand):\n",
    "                poker_counter[FULL_HOUSE] += 1\n",
    "            if is_three_of_a_kind(hand):\n",
    "                poker_counter[THREE_OF_ONE_KIND] += 1\n",
    "            if is_two_pair(hand):\n",
    "                poker_counter[TWO_PAIR] += 1\n",
    "            if is_pair(hand):\n",
    "                poker_counter[PAIR] += 1       \n",
    "    return poker_counter"
   ]
  },
  {
   "cell_type": "code",
   "execution_count": 164,
   "id": "b1498486",
   "metadata": {},
   "outputs": [],
   "source": [
    "result = get_poker_env(10)"
   ]
  },
  {
   "cell_type": "code",
   "execution_count": 165,
   "id": "746828be",
   "metadata": {},
   "outputs": [
    {
     "data": {
      "text/plain": [
       "Counter({'pair': 53174,\n",
       "         'two_pair': 10160,\n",
       "         'three_of_one_kind': 8241,\n",
       "         'four_of_one_kind': 1662,\n",
       "         'stright': 1128,\n",
       "         'full_house': 575,\n",
       "         'flush': 331,\n",
       "         'straight_flush': 13})"
      ]
     },
     "execution_count": 165,
     "metadata": {},
     "output_type": "execute_result"
    }
   ],
   "source": [
    "result"
   ]
  },
  {
   "cell_type": "code",
   "execution_count": 167,
   "id": "9025fbdc",
   "metadata": {},
   "outputs": [],
   "source": [
    "def get_one_suite_poker_env(people,round_number=10000):\n",
    "    poker_counter = Counter()\n",
    "#     FLUSH,STRIGHT = 'flush','straight'\n",
    "    total_hand = 0\n",
    "    for t in range(round_number):\n",
    "        for hand in distribute_hand(people,5,True,False):\n",
    "            total_hand += 1\n",
    "            if is_flush(hand):\n",
    "                poker_counter[FLUSH] += 1\n",
    "            if is_straight(hand):\n",
    "                poker_counter[STRIGHT] += 1\n",
    "            if is_straight_flush(hand):\n",
    "                poker_counter[STRIGHT_FLUSH] += 1\n",
    "            if is_four_of_one_kind(hand):\n",
    "                poker_counter[FOUR_OF_ONE_KIND] += 1\n",
    "            if is_full_house(hand):\n",
    "                poker_counter[FULL_HOUSE] += 1\n",
    "            if is_three_of_a_kind(hand):\n",
    "                poker_counter[THREE_OF_ONE_KIND] += 1\n",
    "            if is_two_pair(hand):\n",
    "                poker_counter[TWO_PAIR] += 1\n",
    "            if is_pair(hand):\n",
    "                poker_counter[PAIR] += 1       \n",
    "    return poker_counter"
   ]
  },
  {
   "cell_type": "code",
   "execution_count": 168,
   "id": "c0d789f6",
   "metadata": {},
   "outputs": [],
   "source": [
    "one_suite_result = get_one_suite_poker_env(10)"
   ]
  },
  {
   "cell_type": "code",
   "execution_count": 169,
   "id": "a9113ee3",
   "metadata": {},
   "outputs": [
    {
     "data": {
      "text/plain": [
       "Counter({'pair': 52998,\n",
       "         'four_of_one_kind': 1718,\n",
       "         'full_house': 604,\n",
       "         'three_of_one_kind': 8089,\n",
       "         'two_pair': 10044,\n",
       "         'stright': 1145,\n",
       "         'flush': 360,\n",
       "         'straight_flush': 15})"
      ]
     },
     "execution_count": 169,
     "metadata": {},
     "output_type": "execute_result"
    }
   ],
   "source": [
    "one_suite_result"
   ]
  },
  {
   "cell_type": "code",
   "execution_count": null,
   "id": "9f9722c2",
   "metadata": {},
   "outputs": [],
   "source": []
  }
 ],
 "metadata": {
  "kernelspec": {
   "display_name": "Python 3 (ipykernel)",
   "language": "python",
   "name": "python3"
  },
  "language_info": {
   "codemirror_mode": {
    "name": "ipython",
    "version": 3
   },
   "file_extension": ".py",
   "mimetype": "text/x-python",
   "name": "python",
   "nbconvert_exporter": "python",
   "pygments_lexer": "ipython3",
   "version": "3.9.7"
  }
 },
 "nbformat": 4,
 "nbformat_minor": 5
}
